{
 "cells": [
  {
   "cell_type": "markdown",
   "id": "f124cc7a-115c-4f50-b2a2-989b6c4cb84c",
   "metadata": {},
   "source": [
    "# **Genetik Algoritma ile Griewank Optimizasyonu**"
   ]
  },
  {
   "cell_type": "markdown",
   "id": "0a3b7d6e-875d-4f35-ae61-8973fef950e0",
   "metadata": {},
   "source": [
    "### 1. Griewank Fonksiyonu"
   ]
  },
  {
   "cell_type": "markdown",
   "id": "84489500-69e7-40ac-b5df-07f463b301ee",
   "metadata": {},
   "source": [
    "Griewank fonksiyonu şu şekilde tanımlanır:\n",
    "\n",
    "![Görsel açıklaması](https://mathworld.wolfram.com/images/equations/GriewankFunction/NumberedEquation1.svg)"
   ]
  },
  {
   "cell_type": "code",
   "execution_count": 1,
   "id": "3a06525c-ae1f-4120-85cd-6c336459ad0e",
   "metadata": {},
   "outputs": [
    {
     "name": "stdout",
     "output_type": "stream",
     "text": [
      "0.0\n",
      "0.6989516489586614\n"
     ]
    }
   ],
   "source": [
    "import numpy as np\n",
    "\n",
    "def griewank(x):\n",
    "    sum_term = np.sum(x**2) / 4000\n",
    "    prod_term = np.prod(np.cos(x / np.sqrt(np.arange(1, len(x) + 1))))\n",
    "    return sum_term - prod_term + 1\n",
    "\n",
    "# Örnek kullanım\n",
    "x = np.array([0, 0, 0, 0])  # Global minimum noktası\n",
    "print(griewank(x))  # Sonuç: 0\n",
    "\n",
    "x = np.array([1, 1, 1, 1])\n",
    "print(griewank(x))  # Başka bir örnek nokta"
   ]
  },
  {
   "cell_type": "markdown",
   "id": "2773b040-1c02-4dfa-9b1d-0748393ecf8f",
   "metadata": {},
   "source": [
    "### 2. Genetik Algoritma"
   ]
  },
  {
   "cell_type": "markdown",
   "id": "647a7f97-a681-4c87-bc54-5c12ce35b2f3",
   "metadata": {},
   "source": [
    "#### 2.1 Popülasyon"
   ]
  },
  {
   "cell_type": "markdown",
   "id": "e14f3362-2c34-4a52-bbaa-f1f33f5bcbef",
   "metadata": {},
   "source": [
    "Popülasyon, bireylerden (veya kromozomlardan) oluşur ve her birey potansiyel bir çözüm temsil eder. Popülasyonun temel işlevi, çeşitli çözümler arasından en iyi olanı bulmaya yönelik evrimsel süreçlerin (seçim, çaprazlama, mutasyon) uygulanmasını sağlamaktır. Genetik algoritmanın başarısı için kritik öneme sahiptir. İyi bir başlangıç popülasyonu, çözüm uzayında daha etkili bir arama yapılmasına olanak tanır. Ayrıca, yeterli çeşitliliğe sahip bir popülasyon, yerel minimumlara takılmadan global optimum çözüme ulaşma şansını artırır."
   ]
  },
  {
   "cell_type": "code",
   "execution_count": 2,
   "id": "623e4562-d73a-4d52-b543-a3fd06fbcdec",
   "metadata": {},
   "outputs": [],
   "source": [
    "import random\n",
    "\n",
    "class RandomPopulation():\n",
    "    def __init__(self, lower_band, upper_band, num_variables, population_size):\n",
    "        self.lower_band = lower_band\n",
    "        self.upper_band = upper_band\n",
    "        self.num_variables = num_variables\n",
    "        self.population_size = population_size\n",
    "\n",
    "    def create(self):\n",
    "        #population = [[random.uniform(self.lower_band, self.upper_band) for _ in range(self.num_variables)] for _ in range(self.population_size)]\n",
    "        population = np.random.uniform(self.lower_band, self.upper_band, (self.population_size, self.num_variables))\n",
    "        return population\n"
   ]
  },
  {
   "cell_type": "code",
   "execution_count": 3,
   "id": "e7b89dc1-ff68-4401-9be6-81aa2e810a00",
   "metadata": {},
   "outputs": [],
   "source": [
    "population = RandomPopulation(-600, 600, 30, 50)"
   ]
  },
  {
   "cell_type": "markdown",
   "id": "2940a5e1-27b2-496a-8c72-03594e7d0209",
   "metadata": {},
   "source": [
    "#### 2.1 Seçim "
   ]
  },
  {
   "cell_type": "markdown",
   "id": "4251f316-1a96-4383-8391-b5783934a213",
   "metadata": {},
   "source": [
    "Seçim, genetik algoritmanın evrimsel sürecinde kritik bir adımdır. Popülasyon içindeki bireylerin, onların fitness değerlerine dayanarak seçilmesini içerir. Yüksek fitness değerine sahip bireylerin seçilme olasılığı daha yüksektir, bu da genetik çeşitliliği ve popülasyonun genel kalitesini artırmaya yardımcı olur."
   ]
  },
  {
   "cell_type": "code",
   "execution_count": 4,
   "id": "cbfc6bc7-4481-4c2c-919c-ad922fe4a567",
   "metadata": {},
   "outputs": [],
   "source": [
    "class Selection:\n",
    "    def __init__(self, population_size):\n",
    "        self.population_size = population_size\n",
    "\n",
    "    def get_population_size(self):\n",
    "        return self.population_size\n",
    "\n",
    "    def choose(self):\n",
    "        pass\n",
    "\n"
   ]
  },
  {
   "cell_type": "markdown",
   "id": "4ae2eee7-aa59-4dd4-9859-8bac33f76f0b",
   "metadata": {},
   "source": [
    "#### 2.1.1. Rastgele Seçimi\n",
    "Rastgele seçme, popülasyondaki bireylerin herhangi bir fitness değeri dikkate alınmaksızın tamamen rastgele seçilmesi yöntemidir. Bu yöntem, her bireyin seçilme olasılığının eşit olduğu anlamına gelir."
   ]
  },
  {
   "cell_type": "code",
   "execution_count": 5,
   "id": "dc96b5d8-7fb5-41ac-86a1-ac6768b439c3",
   "metadata": {},
   "outputs": [],
   "source": [
    "class RandomSelection(Selection):\n",
    "    def __init__(self, population_size):\n",
    "        super().__init__(population_size)\n",
    "\n",
    "    def choose(self):\n",
    "        numbers = np.array([0, 0])\n",
    "\n",
    "        numbers[0] = random.randint(0, self.get_population_size()-1)\n",
    "        numbers[1] = numbers[0]\n",
    "\n",
    "        while numbers[0] == numbers[1]:\n",
    "            numbers[1] = random.randint(0, self.get_population_size()-1)\n",
    "\n",
    "        return numbers"
   ]
  },
  {
   "cell_type": "markdown",
   "id": "4271ce93-4adb-4fac-8acb-18319ac15ebc",
   "metadata": {},
   "source": [
    "#### 2.1.2. Rulet Tekerleği Seçimi\n",
    "\n",
    "Bu yöntem, her bireyin fitness değerine orantılı olarak seçilme olasılığına sahip olduğu bir şans oyununa benzer.\n",
    "Yüksek fitness değerine sahip bireylerin seçilme olasılığı daha yüksektir."
   ]
  },
  {
   "cell_type": "code",
   "execution_count": 22,
   "id": "6426bb93-9cc6-41fe-8e40-d2d710e7a911",
   "metadata": {},
   "outputs": [],
   "source": [
    "class RouletteSelection(Selection):\n",
    "    def __init__(self, population_size):\n",
    "        super().__init__(population_size)\n",
    "\n",
    "    def choose(self, populasyonF):\n",
    "        fitness_oranlari = [0.0] * self.get_population_size()\n",
    "        top_fitness = 0\n",
    "        for sayi in populasyonF:\n",
    "            top_fitness += sayi\n",
    "\n",
    "        i = 0\n",
    "        for sayi in populasyonF:\n",
    "            fitness_oranlari[i] = (sayi / top_fitness) * 100\n",
    "            i += 1\n",
    "\n",
    "        numbers = [0, 0]\n",
    "\n",
    "        numbers[0] = random.randint(0, 100)\n",
    "        numbers[1] = numbers[0]\n",
    "\n",
    "        while numbers[0] == numbers[1]:\n",
    "            numbers[1] = random.randint(0, self.get_population_size()-1)\n",
    "\n",
    "        for j in range(len(numbers)):\n",
    "            dilim = 0\n",
    "            for k in range(len(fitness_oranlari)):\n",
    "                dilim += fitness_oranlari[k]\n",
    "                if dilim >= numbers[j]:\n",
    "                    numbers[j] = k\n",
    "                    break\n",
    "\n",
    "        return numbers"
   ]
  },
  {
   "cell_type": "markdown",
   "id": "3a0d4954-6ad9-4591-9d69-9f23c2284bba",
   "metadata": {},
   "source": [
    "#### 2.1.3. Turnuva Seçimi \n",
    "\n",
    "Rastgele seçilen birkaç birey (genellikle 2 veya daha fazla) arasında turnuva düzenlenir ve en yüksek fitness değerine sahip olan birey seçilir.\n",
    "Turnuva büyüklüğü, seçilen bireylerin sayısını ifade eder ve daha büyük turnuva büyüklükleri, daha iyi bireylerin seçilme olasılığını artırır."
   ]
  },
  {
   "cell_type": "code",
   "execution_count": 7,
   "id": "0c902b86-8934-4aa8-a469-43adbf73c622",
   "metadata": {},
   "outputs": [],
   "source": [
    "class TournamentSelection(Selection):\n",
    "    def __init__(self, population_size):\n",
    "        super().__init__(population_size)\n",
    "\n",
    "    def choose(self, fitness):\n",
    "        numbers = [0, 0]\n",
    "        numbers2 = [0, 0]\n",
    "\n",
    "        for j in range(2):\n",
    "            numbers[0] = random.randint(0, self.get_population_size()-1)\n",
    "            numbers[1] = numbers[0]\n",
    "\n",
    "            while numbers[0] == numbers[1]:\n",
    "                numbers[1] = random.randint(0, self.get_population_size()-1)\n",
    "            if fitness[numbers[1]] > fitness[numbers[0]]:\n",
    "                numbers2[j] = numbers[1]\n",
    "            else:\n",
    "                numbers2[j] = numbers[0]\n",
    "\n",
    "        return numbers2"
   ]
  },
  {
   "cell_type": "markdown",
   "id": "a6a17929-f6ed-4ebf-a76b-87e516ce7e43",
   "metadata": {},
   "source": [
    "#### 2.2. Çaprazlama (Crossover)\n",
    "İki ebeveyn bireyin genetik bilgilerini birleştirerek yeni bireyler (çocuklar) oluşturma sürecidir."
   ]
  },
  {
   "cell_type": "code",
   "execution_count": 8,
   "id": "4bee7096-e2c1-47d0-be6d-93d466a5fe0d",
   "metadata": {},
   "outputs": [],
   "source": [
    "import random\n",
    "\n",
    "class CrossOver:\n",
    "    def __init__(self):\n",
    "        self.random = random.Random()\n",
    "\n",
    "    def get_random(self):\n",
    "        return self.random\n",
    "\n",
    "    def make(self, x1, x2):\n",
    "        pass\n",
    "\n",
    "class SingleCrossOver(CrossOver):\n",
    "    def make(self, x1, x2):\n",
    "        cons = np.array([None, None])\n",
    "        cons[0] = [0] * len(x1)\n",
    "        cons[1] = [0] * len(x1)\n",
    "\n",
    "        index = self.get_random().randint(1, len(x1))\n",
    "\n",
    "        for i in range(index):\n",
    "            cons[0][i] = x1[i]\n",
    "            cons[1][i] = x2[i]\n",
    "\n",
    "        for i in range(index, len(x1)):\n",
    "            cons[1][i] = x1[i]\n",
    "            cons[0][i] = x2[i]\n",
    "\n",
    "        return cons"
   ]
  },
  {
   "cell_type": "markdown",
   "id": "74d73213-3811-4ca0-91de-83e3cf915222",
   "metadata": {},
   "source": [
    "#### 2.3. Mutasyon\n",
    "Bireylerin genetik yapılarında rastgele küçük değişiklikler yaparak çeşitliliği artırma sürecidir."
   ]
  },
  {
   "cell_type": "code",
   "execution_count": 9,
   "id": "61a8c114-cd31-492c-8d0f-3f4c27f1a37b",
   "metadata": {},
   "outputs": [],
   "source": [
    "import random\n",
    "import math\n",
    "\n",
    "class Mutation:\n",
    "    def __init__(self, constant):\n",
    "        self.random = random.Random()\n",
    "        self.constant = constant\n",
    "\n",
    "    def get_random(self):\n",
    "        return self.random\n",
    "\n",
    "    def get_constant(self):\n",
    "        return self.constant\n",
    "\n",
    "    def make(self, x):\n",
    "        pass\n",
    "\n",
    "class SingleMutation(Mutation):\n",
    "    def __init__(self, constant):\n",
    "        super().__init__(constant)\n",
    "\n",
    "    def make(self, x):\n",
    "        index = self.get_random().randint(0, len(x) - 1)\n",
    "        pow = self.get_random().randint(0, 1)\n",
    "        x[index] = x[index] + math.pow(-1, pow) * self.get_constant()\n",
    "\n",
    "        return x"
   ]
  },
  {
   "cell_type": "markdown",
   "id": "528b08d4-7250-4f8c-a035-4a1537b9a843",
   "metadata": {},
   "source": [
    "#### 2.4 Limit (Ceza Fonksiyonları)\n",
    "Cezalandırma fonksiyonları, genetik algoritmalarda kısıtlamaları ihlal eden çözümleri cezalandırmak için kullanılan yöntemlerdir. Bu fonksiyonlar, kısıtlamalara uymayan çözümler için fitness değerlerini düşürerek, bu tür çözümlerin seçilme olasılığını azaltır. Cezalandırma fonksiyonları, genetik algoritmanın kısıtlanmış optimizasyon problemlerini çözebilmesini sağlar."
   ]
  },
  {
   "cell_type": "code",
   "execution_count": 10,
   "id": "85ad6a77-52e4-4c00-806e-69da29b38eec",
   "metadata": {},
   "outputs": [],
   "source": [
    "class Bound:\n",
    "    def __init__(self, lower_band, upper_band):\n",
    "        self.lower_band = lower_band\n",
    "        self.upper_band = upper_band\n",
    "    \n",
    "    def get_lower_band(self):\n",
    "        return self.lower_band\n",
    "\n",
    "    def get_upper_band(self):\n",
    "        return self.upper_band\n",
    "\n",
    "    def make(self, x):\n",
    "        pass\n"
   ]
  },
  {
   "cell_type": "markdown",
   "id": "fd1f8003-751a-480e-b86d-7c23596d9e59",
   "metadata": {},
   "source": [
    "#### 2.4.1. Sınırlara Eşitleme\n",
    "Değer sınırları aşarsa sınıra eşitlenir."
   ]
  },
  {
   "cell_type": "code",
   "execution_count": 11,
   "id": "c0896749-27a9-42ef-88d8-d7999c2f132f",
   "metadata": {},
   "outputs": [],
   "source": [
    "class LimitBound(Bound):\n",
    "    def __init__(self, lower_band, upper_band):\n",
    "        super().__init__(lower_band, upper_band)\n",
    "    \n",
    "    def make(self, x):\n",
    "        for i in range(len(x)):\n",
    "            if x[i] < self.get_lower_band():\n",
    "                x[i] = self.get_lower_band()\n",
    "            elif x[i] > self.get_upper_band():\n",
    "                x[i] = self.get_upper_band()\n",
    "        return x\n",
    "\n"
   ]
  },
  {
   "cell_type": "markdown",
   "id": "b1ca822d-d3e0-41f0-b927-7d29d237c11a",
   "metadata": {},
   "source": [
    "#### 2.4.2. Rasgele Değer Üretme\n",
    "Değer sınırları aşarsa rasgele yeni bir değer üretilir."
   ]
  },
  {
   "cell_type": "code",
   "execution_count": 12,
   "id": "cae2e7c2-4f72-429f-8c7e-47ddcc6516e6",
   "metadata": {},
   "outputs": [],
   "source": [
    "class RandomBound(Bound):\n",
    "    def __init__(self, lower_band, upper_band):\n",
    "        super().__init__(lower_band, upper_band)\n",
    "\n",
    "    def make(self, x):\n",
    "        import random\n",
    "        for i in range(len(x)):\n",
    "            if x[i] < self.get_lower_band() or x[i] > self.get_upper_band():\n",
    "                x[i] = random.random() * (self.get_upper_band() - self.get_lower_band()) + self.get_lower_band()\n",
    "        return x"
   ]
  },
  {
   "cell_type": "markdown",
   "id": "e4a0372f-46ce-4e57-a56a-e093129f4eb5",
   "metadata": {},
   "source": [
    "### 3. Genetik Algoritma ile Griewark Optimizasyon Uygulaması"
   ]
  },
  {
   "cell_type": "code",
   "execution_count": 25,
   "id": "38fb7d3d-daae-4a3e-9a83-c843b45b9d8a",
   "metadata": {},
   "outputs": [
    {
     "data": {
      "text/plain": [
       "array([[ 437.57782701,  394.83154143, -245.70329327,  177.58455285,\n",
       "         -13.11878932,  537.47867097, -266.0542207 ,  294.26412488,\n",
       "         176.62762546,   89.81425479, -549.27282921,  154.39236403,\n",
       "         509.13618816, -214.93761269, -259.04662564, -231.69790602,\n",
       "         121.84556621,    1.30824792,  485.88244256,  -65.51052316,\n",
       "        -321.04914921, -337.99453986,   49.03248751, -132.93272979,\n",
       "         202.08840036, -599.91180909, -302.42785277, -589.18545827,\n",
       "         374.59471428,  263.95063516]])"
      ]
     },
     "execution_count": 25,
     "metadata": {},
     "output_type": "execute_result"
    }
   ],
   "source": [
    "mutation_constant = 0.1  # mutasyon sabiti\n",
    "population_size = 50  # popülasyon büyüklüğü\n",
    "max_iteration = 500000  # max iterasyon sayısı\n",
    "\n",
    "lower_band = -600 # griewark için alt sınır\n",
    "upper_band = 600 # griewark için üst sınır\n",
    "\n",
    "parameter_count = 30 # fonksiyon girdi parametre sayısı \n",
    "\n",
    "random_population = RandomPopulation(lower_band, upper_band, parameter_count, population_size)\n",
    "\n",
    "selection_mutation = RandomSelection(population_size)\n",
    "#selection = RouletteSelection(population_size)\n",
    "selection = TournamentSelection(population_size)\n",
    "cross_over = SingleCrossOver()\n",
    "mutation = SingleMutation(mutation_constant)\n",
    "bound = LimitBound(lower_band, upper_band)\n",
    "\n",
    "fitness = [0.0] * population_size\n",
    "index = None\n",
    "consM = None\n",
    "consC = None\n",
    "fitnes = 0.0\n",
    "\n",
    "population = random_population.create()\n",
    "population[:1]"
   ]
  },
  {
   "cell_type": "code",
   "execution_count": 26,
   "id": "c320d1cf-1dde-4651-86ef-9913a381285d",
   "metadata": {},
   "outputs": [
    {
     "name": "stdout",
     "output_type": "stream",
     "text": [
      "805.6623850959696\n",
      "[805.6623850959696, 734.1141861423442, 823.9006152163084, 751.7297260090114, 1153.4835898837296, 1006.9133445219592, 872.1560429262637, 728.2117590235351, 852.2031567550686, 670.3693987708633, 880.1275659119423, 839.1177956227966, 718.3464007682481, 958.1668278337862, 944.6666093352949, 937.4225770123053, 903.490997416426, 831.0883570724928, 830.0430073196535, 742.550503839077, 1015.7554088095401, 868.0636586948393, 1151.2019049479459, 1266.848374447596, 597.3244068581726, 1176.1299519006943, 986.6278860512069, 617.4128931014135, 865.7229734654499, 783.5669660831429, 705.715018019155, 611.701322854542, 946.2877157854211, 927.4165625692781, 1060.518224265385, 755.3943186643543, 748.2051677272776, 1040.388738045361, 929.2287118108612, 933.7574246177724, 909.9039346536074, 729.1130653629027, 898.0800889434532, 1203.6753348425887, 984.2410397774994, 779.7591910979461, 1050.6338165319446, 678.9699538363104, 759.0267278171423, 809.6021531489654]\n",
      "\n",
      "----------------------\n",
      "Global minimum: 156.97841355272018\n"
     ]
    }
   ],
   "source": [
    "for i in range(population_size):\n",
    "    fitness[i] = griewank(population[i])\n",
    "print(griewank(population[0]))\n",
    "print(fitness)\n",
    "print(\"\\n----------------------\")\n",
    "fe = 0  # iterasyon sayacı\n",
    "while fe < max_iteration:\n",
    "\n",
    "    index = selection.choose(fitness)\n",
    "    #print(str(fe)+\". iterasyon seçine index\"+str(index))\n",
    "    index[1] = fitness.index(min(fitness))\n",
    "    consC = cross_over.make(population[index[0]], population[index[1]])\n",
    "    #print(consC[0])\n",
    "    fitnes = griewank(np.array(consC[0]))\n",
    "    fe += 1\n",
    "    if fitnes < fitness[index[0]]:\n",
    "        population[index[0]] = consC[0]\n",
    "        fitness[index[0]] = fitnes\n",
    "\n",
    "    fitnes = griewank(np.array(consC[1]))\n",
    "    fe += 1\n",
    "    if fitnes < fitness[index[1]]:\n",
    "        population[index[1]] = consC[1]\n",
    "        fitness[index[1]] = fitnes\n",
    "\n",
    "    index = selection_mutation.choose()\n",
    "    consM = mutation.make(population[index[0]])\n",
    "    bound.make(consM)\n",
    "\n",
    "    fitnes = griewank(consM)\n",
    "    fe += 1\n",
    "    if fitnes < fitness[index[0]]:\n",
    "        population[index[0]] = consM\n",
    "        fitness[index[0]] = fitnes\n",
    "\n",
    "global_min = min(fitness)\n",
    "print(\"Global minimum: \"+str(global_min))"
   ]
  },
  {
   "cell_type": "code",
   "execution_count": null,
   "id": "9f452974-564d-4102-9540-9d54622b9dcf",
   "metadata": {},
   "outputs": [],
   "source": []
  },
  {
   "cell_type": "code",
   "execution_count": null,
   "id": "11e1092f-43d9-4994-9b96-7c6980a16ccf",
   "metadata": {},
   "outputs": [],
   "source": []
  },
  {
   "cell_type": "code",
   "execution_count": null,
   "id": "782df0a8-88a5-4f9a-8827-1c460f81555f",
   "metadata": {},
   "outputs": [],
   "source": []
  }
 ],
 "metadata": {
  "kernelspec": {
   "display_name": "Python 3 (ipykernel)",
   "language": "python",
   "name": "python3"
  },
  "language_info": {
   "codemirror_mode": {
    "name": "ipython",
    "version": 3
   },
   "file_extension": ".py",
   "mimetype": "text/x-python",
   "name": "python",
   "nbconvert_exporter": "python",
   "pygments_lexer": "ipython3",
   "version": "3.9.7"
  }
 },
 "nbformat": 4,
 "nbformat_minor": 5
}
